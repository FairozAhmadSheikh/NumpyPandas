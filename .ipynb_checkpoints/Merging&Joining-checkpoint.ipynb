{
 "cells": [
  {
   "cell_type": "code",
   "execution_count": null,
   "id": "bebd57cc-899a-4b5b-87fd-9333b279b93e",
   "metadata": {},
   "outputs": [],
   "source": [
    "import pandas as pd"
   ]
  },
  {
   "cell_type": "code",
   "execution_count": null,
   "id": "3d3c1684-76f9-4423-bd96-fbbde81b190c",
   "metadata": {},
   "outputs": [],
   "source": [
    "# Inner Join\n",
    "df1=pd.DataFrame({'ID':[1,2,3],'Name':['A','B','C']})\n",
    "df2=pd.DataFrame({'ID':[2,3,4],'Score':[85,90,95]})\n",
    "res=pd.merge(df1,df2,on=\"ID\",how=\"inner\")\n",
    "print(res)"
   ]
  },
  {
   "cell_type": "code",
   "execution_count": null,
   "id": "d0b580bc-96d1-476e-8acd-7c63c7d8f4cf",
   "metadata": {},
   "outputs": [],
   "source": [
    "# Left Join\n",
    "result=pd.merge(df1,df2,on=\"ID\",how=\"left\")\n",
    "print(result)"
   ]
  },
  {
   "cell_type": "code",
   "execution_count": null,
   "id": "3ef4c2d3-51ee-479f-826d-bfca41ce7b23",
   "metadata": {},
   "outputs": [],
   "source": [
    "# Right Join\n",
    "result=pd.merge(df1,df2,on=\"ID\",how=\"right\")\n",
    "print(result)"
   ]
  },
  {
   "cell_type": "code",
   "execution_count": null,
   "id": "25d8b1ea-b716-42dd-8327-4e45a0c23191",
   "metadata": {},
   "outputs": [],
   "source": [
    "# Outer Join\n",
    "result=pd.merge(df1,df2,on='ID',how='outer')\n",
    "print(result)"
   ]
  },
  {
   "cell_type": "code",
   "execution_count": null,
   "id": "fb904c02-f4e5-4623-bbf4-5299fa02107c",
   "metadata": {},
   "outputs": [],
   "source": [
    "df3=pd.DataFrame({'Key1':[1,2,3],'Name':['A','B','C']})\n",
    "df4=pd.DataFrame({'Key2':[2,3,4],'Score':[85,90,95]})\n",
    "res=pd.merge(df3,df4,left_on=\"Key1\",right_on=\"Key2\",how=\"inner\")\n",
    "print(res)"
   ]
  },
  {
   "cell_type": "code",
   "execution_count": 27,
   "id": "462482c4-d5ff-4a93-9ff0-47b37e9c28a0",
   "metadata": {},
   "outputs": [
    {
     "name": "stdout",
     "output_type": "stream",
     "text": [
      "   ID  Score\n",
      "0   1     85\n",
      "1   2     90\n",
      "2   3     95\n",
      "3   1     85\n",
      "4   2     90\n",
      "5   3     95\n"
     ]
    }
   ],
   "source": [
    "# Concatenate \n",
    "df1=pd.DataFrame({'ID':[1,2,3],'Score':[85,90,92]})\n",
    "df2=pd.DataFrame({'ID':[1,2,3],'Score':[85,60,95]})\n",
    "res=pd.concat([df1,df2],ignore_index=True)\n",
    "print(res)\n"
   ]
  },
  {
   "cell_type": "code",
   "execution_count": null,
   "id": "ee463c59-c21c-49fd-9c13-deaa182f6048",
   "metadata": {},
   "outputs": [],
   "source": []
  }
 ],
 "metadata": {
  "kernelspec": {
   "display_name": "Python 3 (ipykernel)",
   "language": "python",
   "name": "python3"
  },
  "language_info": {
   "codemirror_mode": {
    "name": "ipython",
    "version": 3
   },
   "file_extension": ".py",
   "mimetype": "text/x-python",
   "name": "python",
   "nbconvert_exporter": "python",
   "pygments_lexer": "ipython3",
   "version": "3.12.7"
  }
 },
 "nbformat": 4,
 "nbformat_minor": 5
}
