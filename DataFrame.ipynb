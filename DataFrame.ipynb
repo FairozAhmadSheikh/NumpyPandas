{
 "cells": [
  {
   "cell_type": "code",
   "execution_count": 1,
   "id": "1c61e46f-32b2-492a-960b-7d73be51c70b",
   "metadata": {},
   "outputs": [],
   "source": [
    "import numpy as np\n",
    "import pandas as pd\n"
   ]
  },
  {
   "cell_type": "code",
   "execution_count": 7,
   "id": "d4ddb587-157b-4fb5-aea5-6d596fd5249c",
   "metadata": {},
   "outputs": [
    {
     "name": "stdout",
     "output_type": "stream",
     "text": [
      "       Day day_names real_name\n",
      "One      1      day1       sat\n",
      "Two      2      day2       sun\n",
      "Three    3      day3       mon\n",
      "Four     4      day4       tue\n",
      "Five     5      day5       wed\n",
      "Six      6      day6      thur\n",
      "Seven    7      day7       fri\n"
     ]
    }
   ],
   "source": [
    "database={\n",
    "    \"Day\":[1,2,3,4,5,6,7],\n",
    "    \"day_names\":[\"day1\",\"day2\",\"day3\",\"day4\",\"day5\",\"day6\",\"day7\"],\n",
    "    \"real_name\":[\"sat\",\"sun\",\"mon\",\"tue\",\"wed\",\"thur\",\"fri\"]\n",
    "}\n",
    "\n",
    "dataframe1=pd.DataFrame(database,index=[\"One\",\"Two\",\"Three\",\"Four\",\"Five\",\"Six\",\"Seven\"])\n",
    "print(dataframe1)"
   ]
  },
  {
   "cell_type": "code",
   "execution_count": 9,
   "id": "d8d85c07-274f-4033-976b-92424969a110",
   "metadata": {},
   "outputs": [
    {
     "name": "stdout",
     "output_type": "stream",
     "text": [
      "Day             1\n",
      "day_names    day1\n",
      "real_name     sat\n",
      "Name: One, dtype: object\n"
     ]
    }
   ],
   "source": [
    "print(dataframe1.loc[\"One\"])"
   ]
  },
  {
   "cell_type": "code",
   "execution_count": 14,
   "id": "aefb654e-b09d-4dc9-974d-7709c1730d32",
   "metadata": {},
   "outputs": [
    {
     "name": "stdout",
     "output_type": "stream",
     "text": [
      "     Day day_names real_name\n",
      "One    1      day1       sat\n",
      "Two    2      day2       sun\n"
     ]
    }
   ],
   "source": [
    "print(dataframe1.loc[[\"One\",\"Two\"]])"
   ]
  },
  {
   "cell_type": "code",
   "execution_count": null,
   "id": "86b47105-25d1-4ed9-af0b-2791cd00694e",
   "metadata": {},
   "outputs": [],
   "source": []
  }
 ],
 "metadata": {
  "kernelspec": {
   "display_name": "Python 3 (ipykernel)",
   "language": "python",
   "name": "python3"
  },
  "language_info": {
   "codemirror_mode": {
    "name": "ipython",
    "version": 3
   },
   "file_extension": ".py",
   "mimetype": "text/x-python",
   "name": "python",
   "nbconvert_exporter": "python",
   "pygments_lexer": "ipython3",
   "version": "3.12.7"
  }
 },
 "nbformat": 4,
 "nbformat_minor": 5
}
