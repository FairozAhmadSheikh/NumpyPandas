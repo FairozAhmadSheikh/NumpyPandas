{
 "cells": [
  {
   "cell_type": "code",
   "execution_count": null,
   "id": "5b540281-1517-4a2f-9a50-4b364874ee00",
   "metadata": {},
   "outputs": [],
   "source": [
    "import pandas as pd"
   ]
  },
  {
   "cell_type": "code",
   "execution_count": null,
   "id": "7f26d6f7-b5ea-45c4-a904-4b456c7725a7",
   "metadata": {},
   "outputs": [],
   "source": [
    "df=pd.DataFrame({\n",
    "    'Date':['2024-01-01','2024-01-01','2024-01-02','2024-01-02'],\n",
    "    'City':['Srinagar','Gulmarg','Srinagar','Gulmarg'],\n",
    "    'Temperature':[2,-5,3,-6]\n",
    "})\n",
    "print(df)"
   ]
  },
  {
   "cell_type": "code",
   "execution_count": 13,
   "id": "da915d06-7085-44dd-b4c7-c46b439cd5a7",
   "metadata": {},
   "outputs": [
    {
     "name": "stdout",
     "output_type": "stream",
     "text": [
      "City        Gulmarg  Srinagar\n",
      "Date                         \n",
      "2024-01-01       -5         2\n",
      "2024-01-02       -6         3\n"
     ]
    }
   ],
   "source": [
    "df_piovt=df.pivot(index='Date',columns='City',values='Temperature')\n",
    "print(df_piovt)"
   ]
  }
 ],
 "metadata": {
  "kernelspec": {
   "display_name": "Python 3 (ipykernel)",
   "language": "python",
   "name": "python3"
  },
  "language_info": {
   "codemirror_mode": {
    "name": "ipython",
    "version": 3
   },
   "file_extension": ".py",
   "mimetype": "text/x-python",
   "name": "python",
   "nbconvert_exporter": "python",
   "pygments_lexer": "ipython3",
   "version": "3.12.7"
  }
 },
 "nbformat": 4,
 "nbformat_minor": 5
}
