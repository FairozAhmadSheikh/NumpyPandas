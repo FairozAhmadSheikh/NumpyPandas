{
 "cells": [
  {
   "cell_type": "code",
   "execution_count": 1,
   "id": "db1bd13e-190d-44e9-8662-c342dd6a1a22",
   "metadata": {},
   "outputs": [],
   "source": [
    "import pandas as pd\n",
    "import numpy as np\n"
   ]
  },
  {
   "cell_type": "code",
   "execution_count": 12,
   "id": "1e68ee61-4773-4a8e-83b6-c94656caa657",
   "metadata": {},
   "outputs": [
    {
     "data": {
      "text/plain": [
       "0    1\n",
       "1    2\n",
       "2    3\n",
       "3    4\n",
       "4    5\n",
       "5    6\n",
       "dtype: int64"
      ]
     },
     "execution_count": 12,
     "metadata": {},
     "output_type": "execute_result"
    }
   ],
   "source": [
    "list1=[1,2,3,4,5,6]\n",
    "ser=pd.Series(list1)\n",
    "ser"
   ]
  },
  {
   "cell_type": "code",
   "execution_count": 16,
   "id": "5a3cf958-51ee-4930-95d5-46e571c2c64c",
   "metadata": {},
   "outputs": [
    {
     "name": "stdout",
     "output_type": "stream",
     "text": [
      "day1    Saturday\n",
      "day2      sunday\n",
      "day3      monday\n",
      "day4     tuesday\n",
      "day5    wednsday\n",
      "day6    Thursday\n",
      "day7      friday\n",
      "dtype: object\n"
     ]
    }
   ],
   "source": [
    "s1=pd.Series([\"Saturday\",\"sunday\",\"monday\",\"tuesday\",\"wednsday\",\"Thursday\",\"friday\"],index=[\"day1\",\"day2\",\"day3\",\"day4\",\"day5\",\"day6\",\"day7\"])\n",
    "print(s1)"
   ]
  },
  {
   "cell_type": "code",
   "execution_count": 23,
   "id": "a4f586c4-656f-45cc-a2c6-a85a567bab88",
   "metadata": {},
   "outputs": [
    {
     "data": {
      "text/plain": [
       "day1    Chest Workout\n",
       "day2         Legs Day\n",
       "day3        Wings Day\n",
       "day4           biceps\n",
       "dtype: object"
      ]
     },
     "execution_count": 23,
     "metadata": {},
     "output_type": "execute_result"
    }
   ],
   "source": [
    "dict1={\"day1\":\"Chest Workout\",\n",
    "       \"day2\": \"Legs Day\",\n",
    "       \"day3\":\"Wings Day\",\n",
    "       \"day4\" : \"biceps\"}\n",
    "series=pd.Series(dict1)\n",
    "series\n",
    "\n"
   ]
  },
  {
   "cell_type": "code",
   "execution_count": 18,
   "id": "b42b9ee9-9cc3-4c60-b86d-5d23d4abc696",
   "metadata": {},
   "outputs": [
    {
     "data": {
      "text/plain": [
       "day2    Legs Day\n",
       "day4      biceps\n",
       "dtype: object"
      ]
     },
     "execution_count": 18,
     "metadata": {},
     "output_type": "execute_result"
    }
   ],
   "source": [
    "short_series=pd.Series(dict1,index=[\"day2\",\"day4\"])\n",
    "short_series"
   ]
  },
  {
   "cell_type": "code",
   "execution_count": null,
   "id": "059ed9b3-a63d-40a0-a8f1-4c38027b0e51",
   "metadata": {},
   "outputs": [],
   "source": []
  }
 ],
 "metadata": {
  "kernelspec": {
   "display_name": "Python 3 (ipykernel)",
   "language": "python",
   "name": "python3"
  },
  "language_info": {
   "codemirror_mode": {
    "name": "ipython",
    "version": 3
   },
   "file_extension": ".py",
   "mimetype": "text/x-python",
   "name": "python",
   "nbconvert_exporter": "python",
   "pygments_lexer": "ipython3",
   "version": "3.12.7"
  }
 },
 "nbformat": 4,
 "nbformat_minor": 5
}
