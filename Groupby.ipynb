{
 "cells": [
  {
   "cell_type": "code",
   "execution_count": 37,
   "id": "8c711c81-23a3-4118-8499-38aa713a5f16",
   "metadata": {},
   "outputs": [],
   "source": [
    "import pandas as pd"
   ]
  },
  {
   "cell_type": "code",
   "execution_count": 43,
   "id": "8af093b2-2afe-4557-889d-93e0bcbcdae8",
   "metadata": {},
   "outputs": [
    {
     "name": "stdout",
     "output_type": "stream",
     "text": [
      "    Dept  salary employee Location\n",
      "0  sales    5000    Alice       NY\n",
      "1  sales    5500      Bob       LA\n",
      "2     hr    6000   sameer       NY\n",
      "3     hr    6200     eesa       LA\n",
      "4     it    7000    insha       NY\n",
      "5     it    7500   shahid       LA\n"
     ]
    }
   ],
   "source": [
    "df=pd.DataFrame({\n",
    "    \"Dept\":[\"sales\",\"sales\",\"hr\",\"hr\",\"it\",\"it\"],\n",
    "    \"salary\":[5000,5500,6000,6200,7000,7500],\n",
    "    \"employee\":[\"Alice\",\"Bob\",\"sameer\",\"eesa\",\"insha\",\"shahid\"],\n",
    "    \"Location\":[\"NY\",\"LA\",\"NY\",\"LA\",\"NY\",\"LA\"]\n",
    "})\n",
    "print(df)"
   ]
  },
  {
   "cell_type": "code",
   "execution_count": 44,
   "id": "41036e95-f26b-4a17-8cc2-2b17c726ac09",
   "metadata": {},
   "outputs": [
    {
     "name": "stdout",
     "output_type": "stream",
     "text": [
      "Dept\n",
      "hr       6100.0\n",
      "it       7250.0\n",
      "sales    5250.0\n",
      "Name: salary, dtype: float64\n"
     ]
    }
   ],
   "source": [
    "grouped=df.groupby('Dept')[\"salary\"].mean()\n",
    "print(grouped)"
   ]
  },
  {
   "cell_type": "code",
   "execution_count": 45,
   "id": "ac90e4c6-0091-4762-b7b9-1f5a24de2513",
   "metadata": {},
   "outputs": [
    {
     "name": "stdout",
     "output_type": "stream",
     "text": [
      "Dept   Location\n",
      "hr     LA          6200.0\n",
      "       NY          6000.0\n",
      "it     LA          7500.0\n",
      "       NY          7000.0\n",
      "sales  LA          5500.0\n",
      "       NY          5000.0\n",
      "Name: salary, dtype: float64\n"
     ]
    }
   ],
   "source": [
    "grouped=df.groupby(['Dept','Location'])['salary'].mean()\n",
    "print(grouped)"
   ]
  },
  {
   "cell_type": "code",
   "execution_count": 48,
   "id": "70a72ab2-e899-49b5-a49c-b50fa54c86e2",
   "metadata": {},
   "outputs": [
    {
     "name": "stdout",
     "output_type": "stream",
     "text": [
      "    Dept  salary employee Location  average_salary\n",
      "0  sales    5000    Alice       NY          5250.0\n",
      "1  sales    5500      Bob       LA          5250.0\n",
      "2     hr    6000   sameer       NY          6100.0\n",
      "3     hr    6200     eesa       LA          6100.0\n",
      "4     it    7000    insha       NY          7250.0\n",
      "5     it    7500   shahid       LA          7250.0\n"
     ]
    }
   ],
   "source": [
    "df['average_salary']=df.groupby('Dept')['salary'].transform('mean')\n",
    "print(df)"
   ]
  },
  {
   "cell_type": "code",
   "execution_count": 49,
   "id": "55998ea2-ce87-4282-ba95-b1649de85fe1",
   "metadata": {},
   "outputs": [
    {
     "name": "stdout",
     "output_type": "stream",
     "text": [
      "    Dept  salary employee Location  average_salary  cum_sum\n",
      "0  sales    5000    Alice       NY          5250.0     5000\n",
      "1  sales    5500      Bob       LA          5250.0    10500\n",
      "2     hr    6000   sameer       NY          6100.0     6000\n",
      "3     hr    6200     eesa       LA          6100.0    12200\n",
      "4     it    7000    insha       NY          7250.0     7000\n",
      "5     it    7500   shahid       LA          7250.0    14500\n"
     ]
    }
   ],
   "source": [
    "df['cum_sum']=df.groupby('Dept')['salary'].cumsum()\n",
    "print(df)"
   ]
  },
  {
   "cell_type": "code",
   "execution_count": 50,
   "id": "54c911f3-2d62-458b-8389-f94dd2d0cd6a",
   "metadata": {},
   "outputs": [
    {
     "name": "stdout",
     "output_type": "stream",
     "text": [
      "    Dept  salary employee Location  average_salary  cum_sum  cum_prod\n",
      "0  sales    5000    Alice       NY          5250.0     5000      5000\n",
      "1  sales    5500      Bob       LA          5250.0    10500  27500000\n",
      "2     hr    6000   sameer       NY          6100.0     6000      6000\n",
      "3     hr    6200     eesa       LA          6100.0    12200  37200000\n",
      "4     it    7000    insha       NY          7250.0     7000      7000\n",
      "5     it    7500   shahid       LA          7250.0    14500  52500000\n"
     ]
    }
   ],
   "source": [
    "df['cum_prod']=df.groupby('Dept')['salary'].cumprod()\n",
    "print(df)"
   ]
  },
  {
   "cell_type": "code",
   "execution_count": 52,
   "id": "5dc0b1df-b86d-4914-b4c5-c79d3e691482",
   "metadata": {},
   "outputs": [
    {
     "name": "stdout",
     "output_type": "stream",
     "text": [
      "    Dept  salary employee Location  average_salary  cum_sum  cum_prod  cum_max\n",
      "0  sales    5000    Alice       NY          5250.0     5000      5000     5000\n",
      "1  sales    5500      Bob       LA          5250.0    10500      5500     5500\n",
      "2     hr    6000   sameer       NY          6100.0     6000      6000     6000\n",
      "3     hr    6200     eesa       LA          6100.0    12200      6200     6200\n",
      "4     it    7000    insha       NY          7250.0     7000      7000     7000\n",
      "5     it    7500   shahid       LA          7250.0    14500      7500     7500\n"
     ]
    }
   ],
   "source": [
    "df['cum_max']=df.groupby('Dept')['salary'].cummax()\n",
    "print(df)"
   ]
  }
 ],
 "metadata": {
  "kernelspec": {
   "display_name": "Python 3 (ipykernel)",
   "language": "python",
   "name": "python3"
  },
  "language_info": {
   "codemirror_mode": {
    "name": "ipython",
    "version": 3
   },
   "file_extension": ".py",
   "mimetype": "text/x-python",
   "name": "python",
   "nbconvert_exporter": "python",
   "pygments_lexer": "ipython3",
   "version": "3.12.7"
  }
 },
 "nbformat": 4,
 "nbformat_minor": 5
}
